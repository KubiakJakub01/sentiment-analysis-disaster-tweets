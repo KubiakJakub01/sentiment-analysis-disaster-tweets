{
 "cells": [
  {
   "attachments": {},
   "cell_type": "markdown",
   "metadata": {},
   "source": [
    "# Research notebook\n",
    "\n",
    "Exploring the data and trying to find some interesting insights."
   ]
  },
  {
   "cell_type": "code",
   "execution_count": null,
   "metadata": {},
   "outputs": [],
   "source": [
    "#Import basic libraries\n",
    "import numpy as np # linear algebra\n",
    "import pandas as pd # data processing, CSV file I/O (e.g. pd.read_csv)\n",
    "import matplotlib.pyplot as plt # plot diagrams and charts\n",
    "from pathlib import Path # to handle paths"
   ]
  },
  {
   "attachments": {},
   "cell_type": "markdown",
   "metadata": {},
   "source": [
    "## Look how exactly the data is structured"
   ]
  },
  {
   "cell_type": "code",
   "execution_count": null,
   "metadata": {},
   "outputs": [],
   "source": [
    "# Define the data path\n",
    "ROOT_DATA_DIR = Path(\"data\")\n",
    "TRAIN_PATH = ROOT_DATA_DIR / \"train.csv\"\n",
    "VALID_PATH = ROOT_DATA_DIR / \"valid.csv\"\n",
    "TEST_PATH = ROOT_DATA_DIR / \"test.csv\"\n",
    "train_df = pd.read_csv(TRAIN_PATH)\n",
    "valid_df = pd.read_csv(VALID_PATH)\n",
    "test_df = pd.read_csv(TEST_PATH)"
   ]
  }
 ],
 "metadata": {
  "kernelspec": {
   "display_name": "nlp",
   "language": "python",
   "name": "python3"
  },
  "language_info": {
   "name": "python",
   "version": "3.9.15 (main, Nov 24 2022, 14:31:59) \n[GCC 11.2.0]"
  },
  "orig_nbformat": 4,
  "vscode": {
   "interpreter": {
    "hash": "956c03ef481a594f455287559e095eff149fd324cebd1a2e9e0157c7f1755c9a"
   }
  }
 },
 "nbformat": 4,
 "nbformat_minor": 2
}
